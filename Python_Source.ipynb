{
 "cells": [
  {
   "cell_type": "markdown",
   "metadata": {},
   "source": [
    "\n",
    "# Lithium_Chemical _code: \n",
    "\n",
    "The code is designed to manage the chemical interactions of lithium and its alloys with various mediums, including water and oxygen\n",
    "\n",
    "- **Symbol**: Li  \n",
    "- **Atomic Number** : 3\n",
    "- **Atomic Weight** : 6.941 a.m.u\n",
    "- **Melting point** : 180.54 C (453.69 K; 356.90 F)\n",
    "- **Boiling point** : 137 °C (1,618 K; 2,448 °F)\n",
    "- **Heat of vaporization** : 19,581.120 kJ/kg (4680 cal/g)\n",
    "- **Heat of fusion** : 431.788 kJ/kg  (103.2 cal/g)\n",
    "- **Density at melting temp** : 516.635 kg/m3\n",
    "- **Specific heat capacity (Cp)** : 6268.3 J/(kg K)\n",
    "- **Thermal conductivity (K)** : 59.8032 (W/m K)\n",
    "\n",
    "\n",
    "\n",
    "## Description\n",
    "Lithium is a soft, silvery-white alkali metal. It is the lightest metal and the least dense solid element. \n",
    "Lithium is highly reactive and flammable, and it must be stored in mineral oil to prevent it from reacting with moisture in the air. \n",
    "In its pure form, lithium is used in heat-resistant glass and ceramics, lithium batteries, and lithium-ion batteries.\n",
    "\n",
    "## Occurrence\n",
    "Lithium does not occur freely in nature but is found in nearly all igneous rocks and in mineral springs. It is most commonly extracted from spodumene, petalite, and lepidolite.\n",
    "\n",
    "## Applications\n",
    "Lithium has a wide range of applications:\n",
    "- **Batteries**: Lithium is crucial for the production of rechargeable lithium-ion batteries, which power smartphones, laptops, and electric vehicles.\n",
    "- **Pharmaceuticals**: Lithium compounds are used in psychiatry for the treatment of bipolar disorder.\n",
    "- **Alloys**: Lithium is used to make lightweight and strong aluminum-lithium alloys for aircraft.\n",
    "- **Breeder**: Lithium is typically the leading candidate for tritium breeding in most fusion thermonuclear power plant designs\n",
    "\n",
    "## Safety\n",
    "Lithium is corrosive and can cause severe burns. It reacts violently with water, releasing hydrogen gas and forming a highly alkaline solution. It also react with air and hydrogen isotops. Proper precautions should be taken when handling lithium, including wearing protective equipment and avoiding contact with water.\n"
   ]
  },
  {
   "cell_type": "markdown",
   "metadata": {},
   "source": [
    "<span style='color: red;'>**SK: to be deleted later, replaced with the environment class**"
   ]
  },
  {
   "cell_type": "code",
   "execution_count": null,
   "metadata": {},
   "outputs": [],
   "source": [
    "# # Installing the required libraries\n",
    "# \n",
    "# ! pip install pandas   \n",
    "# ! pip install pandas openpyxl\n",
    "# ! pip install matplotlib\n",
    "# ! pip install seaborn   \n",
    "# \n",
    "# \n",
    "# # # Importing the required libraries\n",
    "# \n",
    "# # To help with reading and manipulating data\n",
    "# import pandas as pd\n",
    "# import numpy as np\n",
    "# \n",
    "# # To help with doing mathematics\n",
    "# import math\n",
    "# \n",
    "# # To help with data visualization\n",
    "# import matplotlib.pyplot as plt\n",
    "# import seaborn as sns\n",
    "# \n",
    "# # Enables inline plotting, where the plots/graphs will be displayed below the code cells\n",
    "# %matplotlib inline "
   ]
  },
  {
   "cell_type": "markdown",
   "metadata": {},
   "source": [
    "<span style='color: red;'>**SK: to be deleted later, replaced with the optioneering class**"
   ]
  },
  {
   "cell_type": "code",
   "execution_count": null,
   "metadata": {},
   "outputs": [],
   "source": [
    "# # Prompt user to claculate volume and surface area of the chemical reactions' volume\n",
    "# print(\"\\nSelect the domain shape for the chemical interactions from the following options:\")\n",
    "# print(\"1. Cubic\")\n",
    "# print(\"2. Cylindrical\")\n",
    "# print(\"3. Hemispherical\")\n",
    "# print(\"4. Hemisphere + Cylindar\")\n",
    "# \n",
    "# domain_choice = 0     # Default value\n",
    "# domain_choice = input(\"Enter the number corresponding to your choice (1, 2, 3, or 4): \")\n",
    "# print(\"Your choice is = \", domain_choice, \",\\n\")\n",
    "# \n",
    "# # Prompt user to Choose the type of transient \n",
    "# print(\"\\nDefine whether the leak is steady state or time dependent: \")\n",
    "# print(\"1. S.S (boundary condition keep constant with time, unique values)\")\n",
    "# print(\"2. T.D (boundary condition changes with respect to time, time series data imported from .xlsx file)\")\n",
    "# \n",
    "# transient_choice = 0  # Default value\n",
    "# transient_choice = input(\"Enter the number corresponding to your choice (1 or 2): \")\n",
    "# print(\"Your choice is = \", transient_choice,\",\\n\")\n",
    "# \n",
    "# # Prompt user to select a reaction rate coefficient calculation method\n",
    "# print(\"\\nSelect the reaction rate coefficient (k) calculation option:\")\n",
    "# print(\"1. Arrhenius equation vs Temperature\")\n",
    "# print(\"2. Linear extrapolation vs Temperature\")\n",
    "# print(\"3. Exponential extrapolation vs Temperature\")\n",
    "# \n",
    "# coeff_choice = 0      # Default value \n",
    "# coeff_choice = input(\"Enter the number corresponding to your choice (1, 2 or 3): \")\n",
    "# print(\"Your choice is = \", coeff_choice,\",\\n\")"
   ]
  },
  {
   "cell_type": "code",
   "execution_count": 2,
   "metadata": {},
   "outputs": [],
   "source": [
    "# Calls the environment class to install and import the necessary libraries\n",
    "from setup_environment import SetupEnvironment\n",
    "\n",
    "if __name__ == \"__Python_Source__\":\n",
    "    env_setup = SetupEnvironment()\n",
    "    env_setup.setup()\n",
    "\n",
    "    print(\"Environment setup complete.\")"
   ]
  },
  {
   "cell_type": "code",
   "execution_count": null,
   "metadata": {},
   "outputs": [],
   "source": [
    "# Calls the ptioneering class and input the required choices\n",
    "from setup_optioneering import SetupOptioneering\n",
    "\n",
    "opt_setup = SetupOptioneering()\n",
    "opt_setup.prompt_user()"
   ]
  },
  {
   "cell_type": "code",
   "execution_count": null,
   "metadata": {},
   "outputs": [],
   "source": [
    "# Calls the time setup class and sets up the time step sizes\n",
    "from setup_time import SetupTime\n",
    "\n",
    "setup_time = SetupTime()\n",
    "setup_time.get_user_input()"
   ]
  },
  {
   "cell_type": "code",
   "execution_count": null,
   "metadata": {},
   "outputs": [],
   "source": [
    "# Function to input the reaction domain dimensions \n",
    "\n",
    "def chemical_reaction_domain():\n",
    "\n",
    "    if domain_choice == '1':\n",
    "        shape = \"cubic\"\n",
    "        \n",
    "        print(\"Enter the length of the cube in (m):\")\n",
    "        length = float(input(\"Enter the length of the cube: \"))\n",
    "        print(\"Enter the width of the cube in (m):\")\n",
    "        width = float(input(\"Enter the width of the cube: \"))\n",
    "        print(\"Enter the height of the cube in (m):\")\n",
    "        height = float(input(\"Enter the height of the cube: \"))\n",
    "        print(f\"\\n   length = {length} m, width = {width} m, and height = {height} m.\")\n",
    "\n",
    "        volume = length * width * height\n",
    "        area = (2 * (length * width)) + (2 * (length * height)) + (2 * (height * width))\n",
    "        surface_area = length * width\n",
    "        charac_length = math.sqrt(area)\n",
    "        \n",
    "    elif domain_choice == '2':\n",
    "        shape = \"cylindrical\"\n",
    "        \n",
    "\n",
    "        print(\"Enter the radius of the cube in (m):\")\n",
    "        radius = float(input(\"Enter the radius of the cylinder: \"))\n",
    "        print(\"Enter the height of the cube in (m):\")\n",
    "        height = float(input(\"Enter the height of the cylinder: \"))\n",
    "        print(f\"\\n   radius = {radius} m, and height = {height} m.\")\n",
    "\n",
    "        volume = math.pi * (radius ** 2) * height\n",
    "        area = 2 * math.pi * radius * (radius + height)\n",
    "        surface_area = math.pi * (radius ** 2)\n",
    "        charac_length = math.sqrt(surface_area)\n",
    "        \n",
    "    elif domain_choice == '3':\n",
    "        shape = \"hemispherical\"\n",
    "\n",
    "        print(\"Enter the radius of the cube in (m):\")\n",
    "        radius = float(input(\"Enter the radius of the hemisphere: \"))\n",
    "        print(f\"\\n   radius = {radius} m.\")\n",
    "\n",
    "        volume = (2/3) * math.pi * (radius ** 3)\n",
    "        area = 3 * math.pi * (radius ** 2)\n",
    "        surface_area = math.pi * (radius ** 2)\n",
    "        charac_length = radius * 2\n",
    "        \n",
    "    elif domain_choice == '4':\n",
    "        shape = \"Hemisphere + Cylindar\"\n",
    "\n",
    "        print(\"Enter the radius of the hemisphere in (m):\")\n",
    "        radius = float(input(\"Enter the radius of the hemisphere: \"))\n",
    "        print(\"Enter the height of the cylindar in (m):\")\n",
    "        height = float(input(\"Enter the height of the cylinder: \"))\n",
    "        print(f\"\\n   radius = {radius} m, and height = {height} m.\")  \n",
    "\n",
    "        volume = ((2/3) * math.pi * (radius ** 3)) + (math.pi * (radius ** 2)*height)\n",
    "        area = (3 * math.pi * (radius ** 2)) + (2 * math.pi * (radius * height))\n",
    "        surface_area = math.pi * (radius ** 2)\n",
    "        charac_length = math.sqrt(surface_area)\n",
    "\n",
    "    else:\n",
    "        print(\"Invalid choice. Please restart and choose a valid option.\")\n",
    "        return None\n",
    "\n",
    "    return {\"shape\": shape, \"volume\": volume, \"area\": area, \"surface_area\": surface_area, \"charac_length\": charac_length}\n",
    "\n",
    "# Main program\n",
    "domain_info = chemical_reaction_domain()\n",
    "if domain_info:\n",
    "    print(f\"\\nShape = {domain_info['shape'].capitalize()}\")\n",
    "    print(f\"Volume = {domain_info['volume']:.2e} m³\")\n",
    "    print(f\"Circumferential Area = {domain_info['area']:.2e} m²\")\n",
    "    print(f\"Surface Area = {domain_info['surface_area']:.2e} m²\")\n",
    "    print(f\"Characteristic length = {domain_info['charac_length']:.2e} m\")"
   ]
  },
  {
   "cell_type": "code",
   "execution_count": 14,
   "metadata": {},
   "outputs": [],
   "source": [
    "# Function to get the pressure and temperature of upstream and downstream as the initial condition\n",
    "\n",
    "def Input_Data(transient_choice):\n",
    "    \n",
    "    if transient_choice == '1':\n",
    "        try:\n",
    "\n",
    "            # Input pressure and temperature for upstream container\n",
    "            upstream_pressure = float(input(\"Enter the pressure in the upstream container (in bar): \"))\n",
    "            upstream_temperature = float(input(\"Enter the temperature in the upstream container (in °C): \"))\n",
    "\n",
    "            # Input pressure and temperature for downstream reaction volume\n",
    "            downstream_pressure = float(input(\"Enter the pressure in the downstream reaction volume (in bar): \"))\n",
    "            downstream_temperature = float(input(\"Enter the temperature in the downstream reaction volume (in °C): \"))\n",
    "\n",
    "            # Input other required parameters\n",
    "            leak_rate = float(input(\"\\nEnter the lithium leak rate into the reaction volume (in kg/s): \"))\n",
    "            break_size = float(input(\"Enter the break cross section size (in m²): \"))\n",
    "            drainage_rate = float(input(\"Enter the lithium drainage rate from the reaction volume (in kg/s): \"))\n",
    "            gas_flow_rate = float(input(\"Enter the gas flow rate over the lithium pool (in kg/s): \"))  \n",
    "\n",
    "            # Return all values at once\n",
    "            return (upstream_pressure, upstream_temperature, downstream_pressure, downstream_temperature, leak_rate, break_size, drainage_rate, gas_flow_rate)\n",
    "        \n",
    "        except ValueError:\n",
    "            print(\"Invalid input. Please enter numerical values by trying again.\")\n",
    "            return None, None, None, None, None, None, None, None\n",
    "    \n",
    "    elif transient_choice == '2': \n",
    "        try:\n",
    "            # Read Excel data\n",
    "            data_frame_for_container_volume = pd.read_excel('Input_Data.xlsx', sheet_name='Upstream_container_volume')\n",
    "            data_frame_for_reaction_volume = pd.read_excel('Input_Data.xlsx', sheet_name='Downstream_reaction_volume')\n",
    "            print(\"Data has been successfully read from the Excel file.\")\n",
    "            return data_frame_for_container_volume, data_frame_for_reaction_volume\n",
    "\n",
    "        except FileNotFoundError:\n",
    "            print(\"The file was not found. Please check the file path.\")\n",
    "            return None, None\n",
    "\n",
    "    else:\n",
    "        print(\"Invalid choice for transient. Please restart and choose a valid option.\")\n",
    "        return None\n",
    "\n",
    "# Main program\n",
    "result = Input_Data(transient_choice)"
   ]
  },
  {
   "cell_type": "code",
   "execution_count": 15,
   "metadata": {},
   "outputs": [],
   "source": [
    "# Input data treatment\n",
    "\n",
    "if transient_choice == '1' and result is not None:\n",
    "    # Unpack the result values once\n",
    "    upstream_pressure, upstream_temperature, downstream_pressure, downstream_temperature, leak_rate, break_size, drainage_rate, gas_flow_rate = result\n",
    "    \n",
    "    # Create time values and prepare the DataFrame\n",
    "    time_values = list(range(0, transient_time + 1, 1))   # Time values from 0 to transient time with a step of 1\n",
    "    data_handler = {\n",
    "             'Time (s)': time_values,         # 'Time' as the first column\n",
    "             'Leak_rate (kg/s)': [leak_rate] * len(time_values),\n",
    "             'Break_size (m²)': [break_size] * len(time_values),\n",
    "             'Upstream_Pressure (bar)': [upstream_pressure] * len(time_values),\n",
    "             'Upstream_Temperature ( °C)': [upstream_temperature] * len(time_values),\n",
    "             'Drainage_rate (kg/s)': [drainage_rate] * len(time_values),\n",
    "             'Gas_flow_rate (kg/s)': [gas_flow_rate] * len(time_values),\n",
    "             'Downstream_Pressure (bar)': [downstream_pressure] * len(time_values),\n",
    "             'Downstream_Temperature ( °C)': [downstream_temperature] * len(time_values),\n",
    "             }\n",
    "    # Create DataFrame\n",
    "    df_input_data = pd.DataFrame(data_handler)\n",
    "\n",
    "elif transient_choice == '2' and result[0] is not None:\n",
    "    data_frame_for_container_volume, data_frame_for_reaction_volume = result\n",
    "    # Concatenate the DataFrames along the columns axis\n",
    "    data_handler = pd.concat([data_frame_for_container_volume, data_frame_for_reaction_volume], axis=1)\n",
    "    # Find all columns named \"Time (s)\"\n",
    "    time_columns = data_handler.columns[data_handler.columns == 'Time (s)']\n",
    "\n",
    "    # Check if there are multiple \"Time (s)\" columns\n",
    "    if len(time_columns) > 1:\n",
    "       # Drop all \"Time (s)\" columns except the first one\n",
    "       data_handler = data_handler.drop(time_columns[2:], axis=1)\n",
    "       df_input_data = data_handler\n",
    "            \n",
    "# Now you can use df_input_data as needed"
   ]
  },
  {
   "cell_type": "code",
   "execution_count": 16,
   "metadata": {},
   "outputs": [],
   "source": [
    "# make a backup copy of the inputs \n",
    "df_copy = df_input_data.copy() \n",
    "df = df_input_data.copy()         # Create another copy for further manipulation and working on"
   ]
  },
  {
   "cell_type": "markdown",
   "metadata": {},
   "source": [
    "## Input data sanity check \n",
    "-  shape and value control\n",
    "-  plotting variables"
   ]
  },
  {
   "cell_type": "code",
   "execution_count": null,
   "metadata": {},
   "outputs": [],
   "source": [
    "# data size\n",
    "df.shape"
   ]
  },
  {
   "cell_type": "code",
   "execution_count": null,
   "metadata": {},
   "outputs": [],
   "source": [
    "# data types in the columns\n",
    "df.info()"
   ]
  },
  {
   "cell_type": "code",
   "execution_count": null,
   "metadata": {},
   "outputs": [],
   "source": [
    "df.head(20)"
   ]
  },
  {
   "cell_type": "code",
   "execution_count": null,
   "metadata": {},
   "outputs": [],
   "source": [
    "# Plotting the input variables\n",
    "\n",
    "# Extract the time column\n",
    "time = df['Time (s)']\n",
    "columns = df.columns[1:]  # Exclude the 'Time (s)' column for plotting\n",
    "\n",
    "# Determine the number of rows needed\n",
    "num_columns = len(columns)\n",
    "num_rows = (num_columns + 4) // 5  # 5 plots per row\n",
    "\n",
    "# Create subplots\n",
    "fig, axes = plt.subplots(num_rows, 5, figsize=(20, num_rows * 4), constrained_layout=True)\n",
    "axes = axes.flatten()  # Flatten the axes array for easy indexing\n",
    "\n",
    "# Generate a color map with enough distinct colors\n",
    "colors = plt.cm.viridis(np.linspace(0, 1, num_columns))\n",
    "\n",
    "# Plot each column\n",
    "for i, (col, color) in enumerate(zip(columns, colors)):\n",
    "    axes[i].plot(time, df[col], label=col, color=color)  # Apply a unique color to each plot\n",
    "    #axes[i].set_title(col)\n",
    "    axes[i].set_xlabel('Time (s)')\n",
    "    axes[i].set_ylabel(col)\n",
    "    #axes[i].legend()\n",
    "\n",
    "# Remove any empty subplots\n",
    "for j in range(num_columns, len(axes)):\n",
    "    fig.delaxes(axes[j])\n",
    "\n",
    "# Show the plot\n",
    "plt.show()"
   ]
  },
  {
   "cell_type": "markdown",
   "metadata": {},
   "source": [
    "## Physical properties calculation"
   ]
  },
  {
   "cell_type": "markdown",
   "metadata": {},
   "source": [
    "- Lithium properties"
   ]
  },
  {
   "cell_type": "code",
   "execution_count": 21,
   "metadata": {},
   "outputs": [],
   "source": [
    "# Function to calculate lithium density\n",
    "\n",
    "## From the sharepoint Excel file, lithium property sheet: https://ukaeauk.sharepoint.com/:x:/s/SafetyCaseEngineeringGroup/EQJMRSH6Op9Jg56tLniENI4BHevZxvIZMia0Eju9iR2A3A?e=SAIzuQ\n",
    "\n",
    "def calculate_lithium_density(temperature):\n",
    "    \"\"\"\n",
    "    Calculate the density of lithium given a temperature.\n",
    "\n",
    "    Parameters:\n",
    "    temperature (float): Temperature in degrees Kelvin.\n",
    "\n",
    "    Returns:\n",
    "    float: Density of lithium in kg/m3.\n",
    "    \"\"\"\n",
    "    lithium_density = 562 - 0.1 * temperature\n",
    "    return lithium_density\n",
    "\n",
    "# Example usage:\n",
    "# temperature = df['Downstream_Temperature ( °C)'].iloc[0]\n",
    "# rho_Li = calculate_lithium_density(temperature)\n",
    "# print(rho_Li)"
   ]
  },
  {
   "cell_type": "markdown",
   "metadata": {},
   "source": [
    "- Water properties"
   ]
  },
  {
   "cell_type": "code",
   "execution_count": 22,
   "metadata": {},
   "outputs": [],
   "source": [
    "# Function to calculate liquid water density; Range of validity : [-30; 150]C\n",
    "\n",
    "## taken from: https://powderprocess.net/Tools_html/Data_Diagrams/Water_Properties_Correlations.html\n",
    "\n",
    "def calculate_water_density(temperature):\n",
    "    \"\"\"\n",
    "    Calculate the density of water given a temperature and coefficients.\n",
    "\n",
    "    Parameters:\n",
    "    temperature (float): Temperature in degrees Kelvin.\n",
    "    a, b, c, d, e, f, g (float): Coefficients for the density calculation formula.\n",
    "\n",
    "    Returns:\n",
    "    float: Density of water in kg/m3.\n",
    "    \"\"\"\n",
    "    a= -2.8054253*10e-10\n",
    "    b = 1.0556302*10e-7\n",
    "    c = -4.6170461*10e-5\n",
    "    d = -0.0079870401\n",
    "    e = 16.945176\n",
    "    f = 999.83952\n",
    "    g = 0.01687985\n",
    "    numerator = ((((a * temperature + b) * temperature + c) * temperature + d) * temperature + e) * temperature + f\n",
    "    denominator = 1 + g * temperature\n",
    "    water_density = numerator / denominator\n",
    "    return water_density\n",
    "\n",
    "# Example usage:\n",
    "# temperature = df['Upstream_Temperature ( °C)'].iloc[0]\n",
    "# rho_HHO = calculate_water_density(temperature)\n",
    "# print(rho_HHO)\n"
   ]
  },
  {
   "cell_type": "markdown",
   "metadata": {},
   "source": [
    "## Chemical reactions modelling\n",
    "- Experimental data input\n",
    "- kinetics of the reaction"
   ]
  },
  {
   "cell_type": "markdown",
   "metadata": {},
   "source": [
    "### Reaction with water:"
   ]
  },
  {
   "attachments": {
    "image.png": {
     "image/png": "[encoded data removed]"
    }
   },
   "cell_type": "markdown",
   "metadata": {},
   "source": [
    "![image.png](attachment:image.png)"
   ]
  },
  {
   "attachments": {
    "image-2.png": {
     "image/png": "[encoded data removed]"
    }
   },
   "cell_type": "markdown",
   "metadata": {},
   "source": [
    "![image-2.png](attachment:image-2.png)"
   ]
  },
  {
   "cell_type": "markdown",
   "metadata": {},
   "source": [
    "<span style='color: red;'>**The K coefficient can be defined either by the Arrhenius equation or by experimental data extrapolation:**"
   ]
  },
  {
   "cell_type": "code",
   "execution_count": null,
   "metadata": {},
   "outputs": [],
   "source": [
    "if coeff_choice == '1':\n",
    "    print(\"\\nYour choice was =\", coeff_choice, \"Arrhenius equation, therefore, the following will be used for reaction rate calculation\\n\")\n",
    "        \n",
    "    # Get inputs for Arrhenius equation\n",
    "    frequency_for_coeff = float(input(\"Enter frequency rate coefficient (or pre-exponential factor) in (kg/m².s): \"))\n",
    "    gas_constant = 8.314  # J/(K.mol)\n",
    "    activation_energy_for_coeff = float(input(\"Enter activation energy (J/mol): \")) "
   ]
  },
  {
   "cell_type": "code",
   "execution_count": 24,
   "metadata": {},
   "outputs": [],
   "source": [
    "# SK: this function need to be modified by ML/AI trained models and replaced with a class\n",
    "\n",
    "import math  # Import the math module for exp function\n",
    "\n",
    "def reaction_coeff_calculation(coeff_choice, temp_for_coeff):\n",
    "\n",
    "    # Initialize the reaction coefficient\n",
    "    reaction_coeff = None\n",
    "\n",
    "    # Calculation based on user choice\n",
    "    if coeff_choice == '1':\n",
    "        reaction_coeff = frequency_for_coeff * math.exp(-(activation_energy_for_coeff / (gas_constant * temp_for_coeff)))    # Arrhenius equation\n",
    "\n",
    "    elif coeff_choice == '2':\n",
    "        reaction_coeff = ((0.8173 * temp_for_coeff) - 30.738)*(1/(100*3600))   # unit transfer coeff to convert mg/cm2.hr into kg/m2.s\n",
    "\n",
    "    elif coeff_choice == '3':\n",
    "        reaction_coeff = (0.9384 * math.exp(0.0431 * temp_for_coeff))*(1/(100*3600))   # unit transfer coeff to convert mg/cm2.hr into kg/m2.s\n",
    "\n",
    "    else:\n",
    "        print(\"Invalid choice. Please restart and choose a valid option.\")\n",
    "        return None\n",
    "\n",
    "    return reaction_coeff\n"
   ]
  },
  {
   "cell_type": "code",
   "execution_count": null,
   "metadata": {},
   "outputs": [],
   "source": [
    "# Testing the reaction rate coefficient function       SK: to remove later\n",
    "temp_for_coeff = df.loc[0,\"Downstream_Temperature ( °C)\"]  \n",
    "# Call the function with the user's choice\n",
    "result_coeff = reaction_coeff_calculation(coeff_choice,temp_for_coeff)\n",
    "\n",
    "print(result_coeff)"
   ]
  },
  {
   "cell_type": "markdown",
   "metadata": {},
   "source": [
    "- #### Kinetic model core calcs for water and lithium reaction"
   ]
  },
  {
   "cell_type": "code",
   "execution_count": null,
   "metadata": {},
   "outputs": [],
   "source": [
    "# H2O/Li Kinetic model core cell\n",
    "\n",
    "# Time loop preconditioning\n",
    "\n",
    "\n",
    "# Li/H2O reaction kinetic constants\n",
    "alfa = 1                       # Experimental values\n",
    "beta = 0.45                    # Experimental values\n",
    "\n",
    "# Molecular weights\n",
    "MW_H2O = 0.01801528            # Molecular weight of water, 18.01528 g/mol\n",
    "MW_Li = 0.06941                # Molecular weight of lithium, 6.941  g/mol \n",
    "MW_LiOH = 0.02395              # 23.95 g/mol\n",
    "MW_H2 =  0.002016              # 2.016 g/mol\n",
    "\n",
    "# Setting initial values\n",
    "reac_area =  surface_area        # SK: This should be replaced by a function calculates the available area\n",
    "\n",
    "\n",
    "# Zeroing the loop values\n",
    "reac_coeff  = 0             \n",
    "H2O_in_kg = 0         \n",
    "H2O_in_mole = 0      \n",
    "H2O_consumption = 0           \n",
    "Li_consumption = 0            \n",
    "\n",
    "# Determine the number of time steps from the length of the DataFrame\n",
    "time_steps = len(df['Time (s)'])\n",
    "\n",
    "# Start the loop over each time step\n",
    "for seconds in range(time_steps):\n",
    "    \n",
    "    \n",
    "    # Call for reaction rate coeff. function\n",
    "    temp_for_coeff = df.loc[seconds, \"Downstream_Temperature ( °C)\"]  \n",
    "    reac_coeff = reaction_coeff_calculation(coeff_choice, temp_for_coeff)\n",
    "    H2O_in_kg = (reac_coeff * math.log(alfa + (beta * (df.loc[seconds, \"Time (s)\"])))) * reac_area     # Gives water consumption in kg\n",
    "    \n",
    "    # Stoichiometry applied\n",
    "    H2O_in_mole = H2O_in_kg * (1 / MW_H2O)    # kg * mole/kg = mole\n",
    "    Li_in_mole = H2O_in_mole \n",
    "    LiOH_in_mole = H2O_in_mole \n",
    "    H2_in_mole = H2O_in_mole * (1/2) \n",
    "    \n",
    "    Li_in_kg = Li_in_mole * (MW_Li)    # mole * kg/mole = kg\n",
    "    LiOH_in_kg = LiOH_in_mole * (MW_LiOH) \n",
    "    H2_in_kg = H2_in_mole * (MW_H2)\n",
    "    energy_in_kj = 222 * H2O_in_mole     # 222 kJ/mol * mole of H2O = kJ \n",
    "    \n",
    "    # Reactants and products inventory update ()\n",
    "    H2O_tot = (H2O_tot + H2O_in_kg)\n",
    "    Li_tot = (Li_tot + Li_in_kg)\n",
    "    LiOH_tot = (LiOH_tot + LiOH_in_kg)\n",
    "    H2_tot = (H2_tot + H2_in_kg)\n",
    "    \n",
    "    \n",
    "    # Print the current estimate and iteration number\n",
    "    print(f\"Time step {seconds}, Reaction coeff. =  {result_coeff} (kg/m².s), H2O_mass = {result_H2O_in_kg} (kg), Li_mass = {result_li_in_kg}\")\n",
    "        \n",
    "     \n",
    "\n",
    "if seconds + 1 == len(df['Time (s)']):\n",
    "    print(f\"\\n**Calculation successfully completed by time reaching to: {seconds } seconds**\")"
   ]
  },
  {
   "cell_type": "code",
   "execution_count": null,
   "metadata": {},
   "outputs": [],
   "source": [
    "result_water"
   ]
  },
  {
   "cell_type": "code",
   "execution_count": null,
   "metadata": {},
   "outputs": [],
   "source": [
    "estimate"
   ]
  },
  {
   "cell_type": "markdown",
   "metadata": {},
   "source": []
  },
  {
   "cell_type": "code",
   "execution_count": null,
   "metadata": {},
   "outputs": [],
   "source": [
    "threshold"
   ]
  }
 ],
 "metadata": {
  "kernelspec": {
   "display_name": "Python 3",
   "language": "python",
   "name": "python3"
  },
  "language_info": {
   "codemirror_mode": {
    "name": "ipython",
    "version": 3
   },
   "file_extension": ".py",
   "mimetype": "text/x-python",
   "name": "python",
   "nbconvert_exporter": "python",
   "pygments_lexer": "ipython3",
   "version": "3.11.9"
  }
 },
 "nbformat": 4,
 "nbformat_minor": 2
}
